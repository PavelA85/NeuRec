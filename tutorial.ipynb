{
 "cells": [
  {
   "cell_type": "markdown",
   "metadata": {},
   "source": [
    "# A Short Introduction to NeuRec\n",
    "\n",
    "This example aims to describe the building blocks of NeuRec.\n",
    "\n",
    "Following this example, researchers can fast implement their idea and conduct experiments."
   ]
  },
  {
   "cell_type": "markdown",
   "metadata": {},
   "source": [
    "## Dependencies\n",
    "\n",
    "- numpy>=1.17\n",
    "- scipy>=1.3.1\n",
    "- pandas>=0.17\n",
    "- reckit==0.2.0\n",
    "- tensorflow==1.14.0 or pytorch==1.4.0"
   ]
  },
  {
   "cell_type": "markdown",
   "metadata": {},
   "source": [
    "## Configurator\n",
    "\n",
    "Read configuration\n",
    "\n",
    "The class `Configurator` is designed to read arguments from ini-style configuration files and/or parse arguments from command line.\n",
    "The arguments can convert to `int`, `float`, `bool`, `list` and `None` automatically.\n",
    "\n",
    "The format of arguments in command line is \"--arg_name arg_value\":\n",
    "```bash\n",
    "python main.py --model MF --num_thread 8 --metric [\"Recall\", \"NDCG\"]\n",
    "```\n",
    "\n",
    "Using `Configurator.add_config()` to read ini-style configuration files:"
   ]
  },
  {
   "cell_type": "code",
   "execution_count": 10,
   "metadata": {},
   "outputs": [],
   "source": [
    "from reckit import Configurator\n",
    "\n",
    "config = Configurator()\n",
    "config.add_config(\"Preprocess.ini\", section=\"Preprocess\")\n",
    "# config.parse_cmd()  # Parse the arguments from command line.\n"
   ]
  },
  {
   "cell_type": "markdown",
   "metadata": {},
   "source": [
    "The argument `section` will be activated only if there are more than one sections in configuration file, i.e. if there is only one section and whatever the name is, the arguments will be read from it.\n",
    "\n",
    "**Note**, the arguments from command line have the highest priority than that from configuration file.\n",
    "That is, if there are same argument name in configuration file and command line, the value in the former will be overwritten by that in the latter, whenever the command line is phased before or after reading ini files."
   ]
  },
  {
   "cell_type": "markdown",
   "metadata": {},
   "source": [
    "## Preprocessor\n",
    "\n",
    "This process is not necessary.\n",
    "You can ignore this step if your dataset has already preprocessed."
   ]
  },
  {
   "cell_type": "code",
   "execution_count": 11,
   "metadata": {
    "tags": []
   },
   "outputs": [
    {
     "name": "stdout",
     "output_type": "stream",
     "text": [
      "loading data...\n",
      "filtering items...\n",
      "filtering users...\n",
      "remapping user IDs...\n",
      "remapping item IDs...\n",
      "splitting data by ratio...\n",
      "saving data to disk...\n",
      "2020-10-24 08:46:53.674: \n",
      "columns = UIRT\n",
      "filename = dataset/ml-100k.rating\n",
      "sep = \t\n",
      "item_min = 5\n",
      "user_min = 5\n",
      "remap_user_id = True\n",
      "remap_item_id = True\n",
      "split_by = ratio\n",
      "train = 0.7\n",
      "valid = 0.0\n",
      "test = 0.3\n",
      "by_time = False\n",
      "2020-10-24 08:46:53.674: \n",
      "columns = UIRT\n",
      "filename = dataset/ml-100k.rating\n",
      "sep = \t\n",
      "item_min = 5\n",
      "user_min = 5\n",
      "remap_user_id = True\n",
      "remap_item_id = True\n",
      "split_by = ratio\n",
      "train = 0.7\n",
      "valid = 0.0\n",
      "test = 0.3\n",
      "by_time = False\n",
      "2020-10-24 08:46:53.677: Data statistic:\n",
      "2020-10-24 08:46:53.677: Data statistic:\n",
      "2020-10-24 08:46:53.680: The number of users: 943\n",
      "2020-10-24 08:46:53.680: The number of users: 943\n",
      "2020-10-24 08:46:53.682: The number of items: 1349\n",
      "2020-10-24 08:46:53.682: The number of items: 1349\n",
      "2020-10-24 08:46:53.685: The number of ratings: 99287\n",
      "2020-10-24 08:46:53.685: The number of ratings: 99287\n",
      "2020-10-24 08:46:53.689: Average actions of users: 105.29\n",
      "2020-10-24 08:46:53.689: Average actions of users: 105.29\n",
      "2020-10-24 08:46:53.693: Average actions of items: 73.60\n",
      "2020-10-24 08:46:53.693: Average actions of items: 73.60\n",
      "2020-10-24 08:46:53.696: The sparsity of the dataset: 92.195075%\n",
      "2020-10-24 08:46:53.696: The sparsity of the dataset: 92.195075%\n"
     ]
    }
   ],
   "source": [
    "from reckit import Preprocessor\n",
    "\n",
    "data = Preprocessor()\n",
    "data.load_data(config.filename, sep=config.separator, columns=config.file_column)\n",
    "if config.drop_duplicates is True:\n",
    "    data.drop_duplicates(keep=\"first\")  # drop duplicates except for the first or last occurrence\n",
    "\n",
    "data.filter_data(user_min=5, item_min=5)  # filter users and items with a few interactions\n",
    "if config.remap_id is True:\n",
    "    data.remap_data_id()  # convert user and item IDs to integers, start from 0\n",
    "\n",
    "if config.splitter == \"leave_out\":\n",
    "    data.split_data_by_leave_out(valid=config.valid, test=config.test,\n",
    "                                 by_time=config.by_time)\n",
    "elif config.splitter == \"ratio\":\n",
    "    data.split_data_by_ratio(train=config.train, valid=config.valid,\n",
    "                             test=config.test, by_time=config.by_time)\n",
    "\n",
    "data.save_data()  # save the preprocessed data\n"
   ]
  },
  {
   "cell_type": "markdown",
   "metadata": {},
   "source": [
    "## Dataset"
   ]
  },
  {
   "cell_type": "code",
   "execution_count": 12,
   "metadata": {},
   "outputs": [],
   "source": [
    "import os\n",
    "\n",
    "config = Configurator()\n",
    "config.add_config(\"NeuRec.ini\", section=\"NeuRec\")  # read basic settings\n",
    "# config.parse_cmd()\n",
    "\n",
    "model_cfg = os.path.join(\"conf\", \"MF.ini\")  # model cfg path\n",
    "config.add_config(model_cfg, section=\"hyperparameters\", used_as_summary=True)\n"
   ]
  },
  {
   "cell_type": "markdown",
   "metadata": {},
   "source": [
    "The prefix name of data files is same as the data_dir, and the suffix/extension names are 'train', 'test', 'user2id', 'item2id'.\n",
    "\n",
    "Directory structure:\n",
    "\n",
    "    data_dir\n",
    "        ├── data_dir.train      // training data\n",
    "        ├── data_dir.valid      // validation data, optional\n",
    "        ├── data_dir.test       // test data\n",
    "        ├── data_dir.user2id    // user to id, optional\n",
    "        ├── data_dir.item2id    // item to id, optional"
   ]
  },
  {
   "cell_type": "code",
   "execution_count": 13,
   "metadata": {
    "tags": []
   },
   "outputs": [
    {
     "name": "stdout",
     "output_type": "stream",
     "text": [
      "Dataset statistics:\n",
      "Name: ml-100k_ratio_u5_i5\n",
      "The number of users: 943\n",
      "The number of items: 1349\n",
      "The number of ratings: 99287\n",
      "Average actions of users: 105.29\n",
      "Average actions of items: 73.60\n",
      "The sparsity of the dataset: 92.195075%\n",
      "\n",
      "The number of training: 69918\n",
      "The number of validation: 0\n",
      "The number of testing: 29369\n"
     ]
    }
   ],
   "source": [
    "from data import Dataset\n",
    "dataset = Dataset(config.data_dir, config.sep, config.file_column)\n",
    "print(dataset)\n"
   ]
  },
  {
   "cell_type": "markdown",
   "metadata": {},
   "source": [
    "## Logger\n",
    "\n",
    "This class can show a message on standard output and write it into the file named `filename` simultaneously.\n",
    "This is convenient for observing and saving training results."
   ]
  },
  {
   "cell_type": "code",
   "execution_count": 14,
   "metadata": {
    "tags": []
   },
   "outputs": [
    {
     "name": "stdout",
     "output_type": "stream",
     "text": [
      "2020-10-24 08:46:53.819: Dataset statistics:\n",
      "Name: ml-100k_ratio_u5_i5\n",
      "The number of users: 943\n",
      "The number of items: 1349\n",
      "The number of ratings: 99287\n",
      "Average actions of users: 105.29\n",
      "Average actions of items: 73.60\n",
      "The sparsity of the dataset: 92.195075%\n",
      "\n",
      "The number of training: 69918\n",
      "The number of validation: 0\n",
      "The number of testing: 29369\n",
      "2020-10-24 08:46:53.821: NeuRec:[NeuRec]:\n",
      "recommender=MF\n",
      "platform=tensorflow\n",
      "data_dir=dataset/ml-100k_ratio_u5_i5\n",
      "file_column=UIRT\n",
      "sep='\\t'\n",
      "gpu_id=0\n",
      "gpu_mem=0.99\n",
      "metric=[\"Precision\", \"Recall\", \"MAP\", \"NDCG\", \"MRR\"]\n",
      "top_k=[10,20]\n",
      "test_thread=4\n",
      "test_batch_size=64\n",
      "seed=2020\n",
      "\n",
      "MF:[hyperparameters]:\n",
      "lr=0.001\n",
      "reg=0.001\n",
      "embedding_size=64\n",
      "batch_size=1024\n",
      "epochs=5\n",
      "is_pairwise=True\n",
      "loss_func=bpr\n",
      "param_init=normal\n"
     ]
    }
   ],
   "source": [
    "from reckit import Logger\n",
    "import time\n",
    "# create logger filename\n",
    "data_name = dataset.data_name  # dataset name\n",
    "timestamp = time.time()  # run time\n",
    "model_name = config.recommender  # model name\n",
    "model_param = config.summarize()  # return a string of model parameters\n",
    "param_str = f\"{data_name}_{model_name}_{model_param}\"\n",
    "run_id = f\"{param_str[:150]}_{timestamp:.8f}\"\n",
    "\n",
    "log_dir = os.path.join(\"log\", data_name, model_name)  # logger directory\n",
    "logger_name = os.path.join(log_dir, run_id + \".log\")  # full path\n",
    "logger = Logger(logger_name)\n",
    "\n",
    "logger.info(dataset)  # show and write dataset info\n",
    "logger.info(config)  # show and write config info\n"
   ]
  },
  {
   "cell_type": "markdown",
   "metadata": {},
   "source": [
    "## Evaluator\n",
    "\n",
    "Evaluation metrics of `Evaluator` are configurable and can automatically fit both leave-one-out and fold-out data splitting without specific indication."
   ]
  },
  {
   "cell_type": "code",
   "execution_count": 15,
   "metadata": {},
   "outputs": [],
   "source": [
    "from reckit import Evaluator\n",
    "\n",
    "user_train_dict = dataset.train_data.to_user_dict()\n",
    "user_test_dict = dataset.test_data.to_user_dict()\n",
    "evaluator = Evaluator(user_train_dict, user_test_dict,\n",
    "                      metric=config.metric, top_k=config.top_k,\n",
    "                      batch_size=config.test_batch_size,\n",
    "                      num_thread=config.test_thread)\n"
   ]
  },
  {
   "cell_type": "markdown",
   "metadata": {},
   "source": [
    "## PairwiseSampler\n",
    "\n",
    "`PairwiseSampler` is an encapsulation of `Dataset` to do negative item sampling and construct training instances."
   ]
  },
  {
   "cell_type": "code",
   "execution_count": 16,
   "metadata": {},
   "outputs": [],
   "source": [
    "from data import PairwiseSampler\n",
    "\n",
    "data_iter = PairwiseSampler(dataset.train_data, num_neg=1,\n",
    "                            batch_size=config[\"batch_size\"], \n",
    "                            shuffle=True, drop_last=False)\n"
   ]
  },
  {
   "cell_type": "markdown",
   "metadata": {},
   "source": [
    "## Matrix Factorization with PyTorch"
   ]
  },
  {
   "cell_type": "code",
   "execution_count": 17,
   "metadata": {},
   "outputs": [
    {
     "ename": "ModuleNotFoundError",
     "evalue": "No module named 'torch'",
     "output_type": "error",
     "traceback": [
      "\u001b[1;31m---------------------------------------------------------------------------\u001b[0m",
      "\u001b[1;31mModuleNotFoundError\u001b[0m                       Traceback (most recent call last)",
      "\u001b[1;32m<ipython-input-17-30d731bb9a3c>\u001b[0m in \u001b[0;36m<module>\u001b[1;34m\u001b[0m\n\u001b[0;32m      1\u001b[0m \u001b[1;31m# define model\u001b[0m\u001b[1;33m\u001b[0m\u001b[1;33m\u001b[0m\u001b[1;33m\u001b[0m\u001b[0m\n\u001b[1;32m----> 2\u001b[1;33m \u001b[1;32mimport\u001b[0m \u001b[0mtorch\u001b[0m\u001b[1;33m\u001b[0m\u001b[1;33m\u001b[0m\u001b[0m\n\u001b[0m\u001b[0;32m      3\u001b[0m \u001b[1;32mimport\u001b[0m \u001b[0mtorch\u001b[0m\u001b[1;33m.\u001b[0m\u001b[0mnn\u001b[0m \u001b[1;32mas\u001b[0m \u001b[0mnn\u001b[0m\u001b[1;33m\u001b[0m\u001b[1;33m\u001b[0m\u001b[0m\n\u001b[0;32m      4\u001b[0m \u001b[1;32mfrom\u001b[0m \u001b[0mutil\u001b[0m\u001b[1;33m.\u001b[0m\u001b[0mpytorch\u001b[0m \u001b[1;32mimport\u001b[0m \u001b[0minner_product\u001b[0m\u001b[1;33m\u001b[0m\u001b[1;33m\u001b[0m\u001b[0m\n\u001b[0;32m      5\u001b[0m \u001b[1;32mfrom\u001b[0m \u001b[0mutil\u001b[0m\u001b[1;33m.\u001b[0m\u001b[0mpytorch\u001b[0m \u001b[1;32mimport\u001b[0m \u001b[0mget_initializer\u001b[0m\u001b[1;33m\u001b[0m\u001b[1;33m\u001b[0m\u001b[0m\n",
      "\u001b[1;31mModuleNotFoundError\u001b[0m: No module named 'torch'"
     ]
    }
   ],
   "source": [
    "# define model\n",
    "import torch\n",
    "import torch.nn as nn\n",
    "from util.pytorch import inner_product\n",
    "from util.pytorch import get_initializer\n",
    "\n",
    "\n",
    "class MF(nn.Module):\n",
    "    def __init__(self, num_users, num_items, embed_dim):\n",
    "        super(MF, self).__init__()\n",
    "\n",
    "        # user and item embeddings\n",
    "        self.user_embeddings = nn.Embedding(num_users, embed_dim)\n",
    "        self.item_embeddings = nn.Embedding(num_items, embed_dim)\n",
    "\n",
    "        self.item_biases = nn.Embedding(num_items, 1)\n",
    "\n",
    "        # weight initialization\n",
    "        self.reset_parameters()\n",
    "\n",
    "    def reset_parameters(self, init_method=\"uniform\"):\n",
    "        init = get_initializer(init_method)\n",
    "        zero_init = get_initializer(\"zeros\")\n",
    "        init(self.user_embeddings.weight)\n",
    "        init(self.item_embeddings.weight)\n",
    "        zero_init(self.item_biases.weight)\n",
    "\n",
    "    def forward(self, user_ids, item_ids):\n",
    "        user_embs = self.user_embeddings(user_ids)\n",
    "        item_embs = self.item_embeddings(item_ids)\n",
    "        item_bias = self.item_biases(item_ids)\n",
    "        ratings = inner_product(user_embs, item_embs) + torch.squeeze(item_bias)\n",
    "        return ratings\n",
    "\n",
    "    def predict(self, user_ids):\n",
    "        user_ids = torch.from_numpy(np.asarray(user_ids)).long().to(self.item_embeddings.weight.device)\n",
    "        user_embs = self.user_embeddings(user_ids)\n",
    "        ratings = torch.matmul(user_embs, self.item_embeddings.weight.T)\n",
    "        ratings += torch.squeeze(self.item_biases.weight)\n",
    "        return ratings.cpu().detach().numpy()\n"
   ]
  },
  {
   "cell_type": "code",
   "execution_count": null,
   "metadata": {
    "tags": []
   },
   "outputs": [],
   "source": [
    "# training\n",
    "from util.pytorch import pairwise_loss\n",
    "from util.common import Reduction\n",
    "from util.pytorch import l2_loss\n",
    "import numpy as np\n",
    "\n",
    "device = torch.device('cuda:0' if torch.cuda.is_available() else 'cpu')\n",
    "mf = MF(dataset.num_users, dataset.num_items, config[\"embedding_size\"]).to(device)\n",
    "mf.reset_parameters(config[\"param_init\"])\n",
    "optimizer = torch.optim.Adam(mf.parameters(), lr=config[\"lr\"])\n",
    "\n",
    "logger.info(evaluator.metrics_info())  # show the metrics information\n",
    "for epoch in range(10):\n",
    "    mf.train()\n",
    "    for bat_users, bat_pos_items, bat_neg_items in data_iter:\n",
    "        bat_users = torch.from_numpy(bat_users).long().to(device)\n",
    "        bat_pos_items = torch.from_numpy(bat_pos_items).long().to(device)\n",
    "        bat_neg_items = torch.from_numpy(bat_neg_items).long().to(device)\n",
    "        yui = mf(bat_users, bat_pos_items)\n",
    "        yuj = mf(bat_users, bat_neg_items)\n",
    "\n",
    "        loss = pairwise_loss(\"bpr\", yui-yuj, reduction=Reduction.SUM)\n",
    "        reg_loss = l2_loss(mf.user_embeddings(bat_users),\n",
    "                           mf.item_embeddings(bat_pos_items),\n",
    "                           mf.item_embeddings(bat_neg_items),\n",
    "                           mf.item_biases(bat_pos_items),\n",
    "                           mf.item_biases(bat_neg_items))\n",
    "        loss += config[\"reg\"] * reg_loss\n",
    "        optimizer.zero_grad()\n",
    "        loss.backward()\n",
    "        optimizer.step()\n",
    "    mf.eval()\n",
    "    result = evaluator.evaluate(mf)\n",
    "    logger.info(\"epoch %d:\\t%s\" % (epoch, result))\n",
    "print(\"done\")\n"
   ]
  },
  {
   "cell_type": "markdown",
   "metadata": {},
   "source": [
    "## Matrix Factorization with TensorFlow"
   ]
  },
  {
   "cell_type": "code",
   "execution_count": null,
   "metadata": {
    "tags": []
   },
   "outputs": [],
   "source": [
    "# define model\n",
    "import os\n",
    "os.environ[\"TF_CPP_MIN_LOG_LEVEL\"] = \"3\"\n",
    "import tensorflow as tf\n",
    "from util.tensorflow import inner_product, l2_loss\n",
    "from util.tensorflow import pairwise_loss\n",
    "from util.tensorflow import get_initializer, get_session\n",
    "\n",
    "\n",
    "class MF(object):\n",
    "    def __init__(self, config, num_users, num_items):\n",
    "        self.emb_size = config[\"embedding_size\"]\n",
    "        self.lr = config[\"lr\"]\n",
    "        self.reg = config[\"reg\"]\n",
    "        self.epochs = config[\"epochs\"]\n",
    "        self.batch_size = config[\"batch_size\"]\n",
    "        self.param_init = config[\"param_init\"]\n",
    "        self.loss_func = config[\"loss_func\"]\n",
    "\n",
    "        self.num_users, self.num_items = num_users, num_items\n",
    "\n",
    "        self._build_model()\n",
    "        self.sess = get_session(config[\"gpu_mem\"])\n",
    "\n",
    "    def _create_variable(self):\n",
    "        self.user_ph = tf.placeholder(tf.int32, [None], name=\"user\")\n",
    "        self.pos_item_ph = tf.placeholder(tf.int32, [None], name=\"pos_item\")\n",
    "        self.neg_item_ph = tf.placeholder(tf.int32, [None], name=\"neg_item\")\n",
    "        self.label_ph = tf.placeholder(tf.float32, [None], name=\"label\")\n",
    "\n",
    "        # embedding layers\n",
    "        init = get_initializer(self.param_init)\n",
    "        zero_init = get_initializer(\"zeros\")\n",
    "        self.user_embeddings = tf.Variable(init([self.num_users, self.emb_size]),\n",
    "                                           name=\"user_embedding\")\n",
    "        self.item_embeddings = tf.Variable(init([self.num_items, self.emb_size]),\n",
    "                                           name=\"item_embedding\")\n",
    "        self.item_biases = tf.Variable(zero_init([self.num_items]), name=\"item_bias\")\n",
    "\n",
    "    def _build_model(self):\n",
    "        self._create_variable()\n",
    "        user_emb = tf.nn.embedding_lookup(self.user_embeddings, self.user_ph)\n",
    "        pos_item_emb = tf.nn.embedding_lookup(self.item_embeddings, self.pos_item_ph)\n",
    "        neg_item_emb = tf.nn.embedding_lookup(self.item_embeddings, self.neg_item_ph)\n",
    "        pos_bias = tf.gather(self.item_biases, self.pos_item_ph)\n",
    "        neg_bias = tf.gather(self.item_biases, self.neg_item_ph)\n",
    "\n",
    "        yi_hat = inner_product(user_emb, pos_item_emb) + pos_bias\n",
    "        yj_hat = inner_product(user_emb, neg_item_emb) + neg_bias\n",
    "\n",
    "        # reg loss\n",
    "        model_loss = pairwise_loss(\"bpr\", yi_hat-yj_hat, reduction=Reduction.SUM)\n",
    "        reg_loss = l2_loss(user_emb, pos_item_emb, pos_bias, neg_item_emb, neg_bias)\n",
    "\n",
    "        final_loss = model_loss + self.reg * reg_loss\n",
    "\n",
    "        self.train_opt = tf.train.AdamOptimizer(self.lr).minimize(final_loss, name=\"train_opt\")\n",
    "\n",
    "        # for evaluation\n",
    "        u_emb = tf.nn.embedding_lookup(self.user_embeddings, self.user_ph)\n",
    "        self.batch_ratings = tf.matmul(u_emb, self.item_embeddings, transpose_b=True) + self.item_biases\n",
    "\n",
    "    def predict(self, users):\n",
    "        all_ratings = self.sess.run(self.batch_ratings, feed_dict={self.user_ph: users})\n",
    "        return all_ratings\n"
   ]
  },
  {
   "cell_type": "code",
   "execution_count": null,
   "metadata": {
    "tags": []
   },
   "outputs": [],
   "source": [
    "# training\n",
    "num_users, num_items = dataset.num_users, dataset.num_items\n",
    "mf = MF(config, num_users, num_items)\n",
    "logger.info(evaluator.metrics_info())\n",
    "for epoch in range(10):\n",
    "    for bat_users, bat_pos_items, bat_neg_items in data_iter:\n",
    "        feed = {mf.user_ph: bat_users,\n",
    "                mf.pos_item_ph: bat_pos_items,\n",
    "                mf.neg_item_ph: bat_neg_items}\n",
    "        mf.sess.run(mf.train_opt, feed_dict=feed)\n",
    "    result = evaluator.evaluate(mf)\n",
    "    logger.info(\"epoch %d:\\t%s\" % (epoch, result))\n",
    "print(\"done\")\n"
   ]
  },
  {
   "cell_type": "markdown",
   "metadata": {},
   "source": []
  }
 ],
 "metadata": {
  "kernelspec": {
   "display_name": "Python 3",
   "language": "python",
   "name": "python3"
  },
  "language_info": {
   "codemirror_mode": {
    "name": "ipython",
    "version": 3
   },
   "file_extension": ".py",
   "mimetype": "text/x-python",
   "name": "python",
   "nbconvert_exporter": "python",
   "pygments_lexer": "ipython3",
   "version": "3.7.6"
  }
 },
 "nbformat": 4,
 "nbformat_minor": 2
}
